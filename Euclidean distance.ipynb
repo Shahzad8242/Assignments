{
 "cells": [
  {
   "cell_type": "code",
   "execution_count": 5,
   "metadata": {},
   "outputs": [
    {
     "name": "stdout",
     "output_type": "stream",
     "text": [
      "Enter co=ordinates for point A:\n",
      "2\n",
      "4\n",
      "Enter co=ordinates for point B:\n",
      "4\n",
      "4\n",
      "Distance between points: 2.0\n"
     ]
    }
   ],
   "source": [
    "import math\n",
    "\n",
    "print(\"Enter co=ordinates for point A:\")\n",
    "x1, y1 = float(input()), float(input())\n",
    "print(\"Enter co=ordinates for point B:\")\n",
    "x2, y2 = float(input()), float(input())\n",
    "\n",
    "d= math.sqrt((x1 - x2) ** 2 + (y1 - y2) ** 2)\n",
    "print(\"Distance between points:\", d)"
   ]
  },
  {
   "cell_type": "code",
   "execution_count": null,
   "metadata": {},
   "outputs": [],
   "source": []
  }
 ],
 "metadata": {
  "kernelspec": {
   "display_name": "Python 3",
   "language": "python",
   "name": "python3"
  },
  "language_info": {
   "codemirror_mode": {
    "name": "ipython",
    "version": 3
   },
   "file_extension": ".py",
   "mimetype": "text/x-python",
   "name": "python",
   "nbconvert_exporter": "python",
   "pygments_lexer": "ipython3",
   "version": "3.7.3"
  }
 },
 "nbformat": 4,
 "nbformat_minor": 2
}
