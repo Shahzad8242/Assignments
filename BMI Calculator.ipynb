{
 "cells": [
  {
   "cell_type": "code",
   "execution_count": 1,
   "metadata": {},
   "outputs": [
    {
     "name": "stdout",
     "output_type": "stream",
     "text": [
      "Enter your height in Centimeters: 180\n",
      "Enter your weight in Kg: 75\n",
      "Your Body Mass Index is:  23\n"
     ]
    }
   ],
   "source": [
    "#Define the constants\n",
    "METER   = 100\n",
    " \n",
    "#Read the inputs from user\n",
    "height  = float(input(\"Enter your height in Centimeters: \"))\n",
    "weight  = float(input(\"Enter your weight in Kg: \"))\n",
    " \n",
    "temp    = height / METER\n",
    "#Calculate the BMI\n",
    "bmi = weight / (temp*temp)\n",
    " \n",
    "#Display the result\n",
    "print(\"Your Body Mass Index is: \",\"%d\"%(bmi))"
   ]
  },
  {
   "cell_type": "code",
   "execution_count": null,
   "metadata": {},
   "outputs": [],
   "source": []
  }
 ],
 "metadata": {
  "kernelspec": {
   "display_name": "Python 3",
   "language": "python",
   "name": "python3"
  },
  "language_info": {
   "codemirror_mode": {
    "name": "ipython",
    "version": 3
   },
   "file_extension": ".py",
   "mimetype": "text/x-python",
   "name": "python",
   "nbconvert_exporter": "python",
   "pygments_lexer": "ipython3",
   "version": "3.7.3"
  }
 },
 "nbformat": 4,
 "nbformat_minor": 2
}
