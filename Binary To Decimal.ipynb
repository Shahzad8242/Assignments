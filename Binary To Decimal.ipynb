{
 "cells": [
  {
   "cell_type": "code",
   "execution_count": 4,
   "metadata": {},
   "outputs": [
    {
     "name": "stdout",
     "output_type": "stream",
     "text": [
      "Enter 'x' for exit.\n",
      "Enter number in Binary Format: 1101\n",
      "1101 in Decimal = 13\n"
     ]
    }
   ],
   "source": [
    "# Python Program - Convert Binary to Decimal\n",
    "\n",
    "print(\"Enter 'x' for exit.\");\n",
    "binary = input(\"Enter number in Binary Format: \");\n",
    "if binary == 'x':\n",
    "    exit();\n",
    "else:\n",
    "    decimal = int(binary, 2);\n",
    "    print(binary,\"in Decimal =\",decimal);"
   ]
  },
  {
   "cell_type": "code",
   "execution_count": null,
   "metadata": {},
   "outputs": [],
   "source": []
  }
 ],
 "metadata": {
  "kernelspec": {
   "display_name": "Python 3",
   "language": "python",
   "name": "python3"
  },
  "language_info": {
   "codemirror_mode": {
    "name": "ipython",
    "version": 3
   },
   "file_extension": ".py",
   "mimetype": "text/x-python",
   "name": "python",
   "nbconvert_exporter": "python",
   "pygments_lexer": "ipython3",
   "version": "3.7.3"
  }
 },
 "nbformat": 4,
 "nbformat_minor": 2
}
