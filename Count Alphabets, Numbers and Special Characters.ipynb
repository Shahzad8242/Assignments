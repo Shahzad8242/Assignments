{
 "cells": [
  {
   "cell_type": "code",
   "execution_count": 3,
   "metadata": {},
   "outputs": [
    {
     "name": "stdout",
     "output_type": "stream",
     "text": [
      "Please Enter your Own String : python 3.2\n",
      "\n",
      "Total Number of Alphabets in this String :   6\n",
      "Total Number of Digits in this String :   2\n",
      "Total Number of Special Characters in this String :   2\n"
     ]
    }
   ],
   "source": [
    "# Python program to Count Alphabets Digits and Special Characters in a String\n",
    " \n",
    "string = input(\"Please Enter your Own String : \")\n",
    "alphabets = digits = special = 0\n",
    "\n",
    "for i in range(len(string)):\n",
    "    if(string[i].isalpha()):\n",
    "        alphabets = alphabets + 1\n",
    "    elif(string[i].isdigit()):\n",
    "        digits = digits + 1\n",
    "    else:\n",
    "        special = special + 1\n",
    "        \n",
    "print(\"\\nTotal Number of Alphabets in this String :  \", alphabets)\n",
    "print(\"Total Number of Digits in this String :  \", digits)\n",
    "print(\"Total Number of Special Characters in this String :  \", special)"
   ]
  },
  {
   "cell_type": "code",
   "execution_count": null,
   "metadata": {},
   "outputs": [],
   "source": []
  }
 ],
 "metadata": {
  "kernelspec": {
   "display_name": "Python 3",
   "language": "python",
   "name": "python3"
  },
  "language_info": {
   "codemirror_mode": {
    "name": "ipython",
    "version": 3
   },
   "file_extension": ".py",
   "mimetype": "text/x-python",
   "name": "python",
   "nbconvert_exporter": "python",
   "pygments_lexer": "ipython3",
   "version": "3.7.3"
  }
 },
 "nbformat": 4,
 "nbformat_minor": 2
}
